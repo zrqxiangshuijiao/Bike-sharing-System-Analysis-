{
 "cells": [
  {
   "cell_type": "markdown",
   "id": "22e77931",
   "metadata": {},
   "source": [
    "# 2 Prediction Challenge"
   ]
  },
  {
   "cell_type": "markdown",
   "id": "b6d0d89b",
   "metadata": {},
   "source": [
    "#### Ruiqi Zhu(s194822)"
   ]
  },
  {
   "cell_type": "markdown",
   "id": "307088d0",
   "metadata": {},
   "source": [
    "In the prediction challenge, the demand for the bike-sharing system will be predicted by different train/test set at a city level."
   ]
  },
  {
   "cell_type": "markdown",
   "id": "f4b1c811",
   "metadata": {},
   "source": [
    "## Data analysis for prediction"
   ]
  },
  {
   "cell_type": "code",
   "execution_count": 2,
   "id": "5ce8d897",
   "metadata": {},
   "outputs": [],
   "source": [
    "f = pd.read_csv(\"Trips_2018.csv\")"
   ]
  },
  {
   "cell_type": "markdown",
   "id": "8c33b31d",
   "metadata": {},
   "source": [
    "The demand for the bike-sharing system can be weighed as numbers of pickups by the hour. It's easy to find that all station informatations are useless since the prediction will be analysed at a city level. In order to get a clean data, it's good to drop all useless columns at the beginning."
   ]
  },
  {
   "cell_type": "code",
   "execution_count": null,
   "id": "b0da62d4",
   "metadata": {},
   "outputs": [],
   "source": [
    "#remove the unwanted columns and only keep starttime\n",
    "f = f.drop(columns=['Unnamed: 0','start_station_latitude','start_station_longitude','end_station_latitude','end_station_longitude','stoptime','bikeid']) "
   ]
  },
  {
   "cell_type": "markdown",
   "id": "090b8918",
   "metadata": {},
   "source": [
    "The original data from Citi Bike (New York) doesn't have the number of pickups by the hour data. It's necesary to calculate the numbers of pickup and then create a new column called 'Nb_pickups'."
   ]
  },
  {
   "cell_type": "code",
   "execution_count": 3,
   "id": "378e2eeb",
   "metadata": {},
   "outputs": [],
   "source": [
    "#datetime format conversions\n",
    "f['starttime']=pd.to_datetime(f['starttime'], format=\"%Y-%m-%d %H:%M:%S\")"
   ]
  },
  {
   "cell_type": "code",
   "execution_count": 4,
   "id": "bfa0c4ef",
   "metadata": {},
   "outputs": [],
   "source": [
    "#create pickups column by calcaluating the size of starttime\n",
    "df=f.groupby([pd.Grouper(key='starttime',freq='H')]).size().reset_index(name='Nb_pickups')"
   ]
  },
  {
   "cell_type": "markdown",
   "id": "80dd7bc7",
   "metadata": {},
   "source": [
    "Float() argument must be a string or a number, not datetime. Considering of regression in following step, two new int columns called 'hour','day' can be created here."
   ]
  },
  {
   "cell_type": "code",
   "execution_count": 5,
   "id": "981e46cc",
   "metadata": {},
   "outputs": [],
   "source": [
    "df['hour'] = pd.to_datetime(df['starttime']).dt.hour\n",
    "df['day'] = pd.to_datetime(df['starttime']).dt.day"
   ]
  },
  {
   "cell_type": "code",
   "execution_count": 44,
   "id": "070c7134",
   "metadata": {},
   "outputs": [],
   "source": [
    "x=np.c_[np.ones(len(df)),df['hour'], df['day']]\n",
    "y= np.array(df['Nb_pickups'], ndmin=2).T"
   ]
  },
  {
   "cell_type": "markdown",
   "id": "55b4ad32",
   "metadata": {},
   "source": [
    "## Part 1"
   ]
  },
  {
   "cell_type": "markdown",
   "id": "f5621308",
   "metadata": {},
   "source": [
    "In part 1, the idea is to predict the pickups of the next 7 days given 2 months of data. January and February were chosen here."
   ]
  },
  {
   "cell_type": "code",
   "execution_count": 45,
   "id": "20a2af1e",
   "metadata": {},
   "outputs": [],
   "source": [
    "#Janaray has 31 days and February has 28 days in 2018. The train set is (31+28)*24=1392\n",
    "split=1392\n",
    "x_train = x[:split]\n",
    "x_test =x[split:split+168]\n",
    "y_train = y[:split]\n",
    "y_test = y[split:split+168]"
   ]
  },
  {
   "cell_type": "code",
   "execution_count": 46,
   "id": "fa86e947",
   "metadata": {},
   "outputs": [
    {
     "name": "stdout",
     "output_type": "stream",
     "text": [
      "[[134.2704086   48.89387556  25.82958768]]\n"
     ]
    }
   ],
   "source": [
    "#fit(x_train, y_train)\n",
    "#get regr.coef_"
   ]
  },
  {
   "cell_type": "code",
   "execution_count": 47,
   "id": "ab3b591e",
   "metadata": {},
   "outputs": [
    {
     "data": {
      "image/png": "[encoded data removed]",
      "text/plain": [
       "<Figure size 432x288 with 1 Axes>"
      ]
     },
     "metadata": {
      "needs_background": "light"
     },
     "output_type": "display_data"
    }
   ],
   "source": [
    "#use a 45 degree plot to see predicted pickups VS observed pickups"
   ]
  },
  {
   "cell_type": "markdown",
   "id": "a9d22c94",
   "metadata": {},
   "source": [
    "It looks awful. In order to get a high R2, I decided to choose a high variance model."
   ]
  },
  {
   "cell_type": "code",
   "execution_count": 10,
   "id": "8e52832e",
   "metadata": {},
   "outputs": [
    {
     "name": "stdout",
     "output_type": "stream",
     "text": [
      "Mean Absolute error (MAE): 752.51\n",
      "Root Mean squared error: 978.33\n"
     ]
    }
   ],
   "source": [
    "#MAE and RMSA"
   ]
  },
  {
   "cell_type": "code",
   "execution_count": 11,
   "id": "17219436",
   "metadata": {},
   "outputs": [
    {
     "data": {
      "text/html": [
       "<div>\n",
       "<style scoped>\n",
       "    .dataframe tbody tr th:only-of-type {\n",
       "        vertical-align: middle;\n",
       "    }\n",
       "\n",
       "    .dataframe tbody tr th {\n",
       "        vertical-align: top;\n",
       "    }\n",
       "\n",
       "    .dataframe thead th {\n",
       "        text-align: right;\n",
       "    }\n",
       "</style>\n",
       "<table border=\"1\" class=\"dataframe\">\n",
       "  <thead>\n",
       "    <tr style=\"text-align: right;\">\n",
       "      <th></th>\n",
       "      <th>Nb_pickups</th>\n",
       "      <th>hour</th>\n",
       "      <th>day</th>\n",
       "    </tr>\n",
       "  </thead>\n",
       "  <tbody>\n",
       "    <tr>\n",
       "      <td>Nb_pickups</td>\n",
       "      <td>1.000000</td>\n",
       "      <td>3.721882e-01</td>\n",
       "      <td>9.411572e-03</td>\n",
       "    </tr>\n",
       "    <tr>\n",
       "      <td>hour</td>\n",
       "      <td>0.372188</td>\n",
       "      <td>1.000000e+00</td>\n",
       "      <td>4.848940e-18</td>\n",
       "    </tr>\n",
       "    <tr>\n",
       "      <td>day</td>\n",
       "      <td>0.009412</td>\n",
       "      <td>4.848940e-18</td>\n",
       "      <td>1.000000e+00</td>\n",
       "    </tr>\n",
       "  </tbody>\n",
       "</table>\n",
       "</div>"
      ],
      "text/plain": [
       "            Nb_pickups          hour           day\n",
       "Nb_pickups    1.000000  3.721882e-01  9.411572e-03\n",
       "hour          0.372188  1.000000e+00  4.848940e-18\n",
       "day           0.009412  4.848940e-18  1.000000e+00"
      ]
     },
     "execution_count": 11,
     "metadata": {},
     "output_type": "execute_result"
    }
   ],
   "source": [
    "#correlation"
   ]
  },
  {
   "cell_type": "markdown",
   "id": "9540846f",
   "metadata": {},
   "source": [
    "Lagged Variable Regression is a high variance model and always has a high R2. "
   ]
  },
  {
   "cell_type": "code",
   "execution_count": 15,
   "id": "12f0df1c",
   "metadata": {},
   "outputs": [],
   "source": [
    "f_lagged=buildLaggedFeatures(df, ['Nb_pickups'], lag=168)\n",
    "fllen=len(f_lagged)"
   ]
  },
  {
   "cell_type": "code",
   "execution_count": 16,
   "id": "4885b9c1",
   "metadata": {},
   "outputs": [
    {
     "data": {
      "text/html": [
       "<div>\n",
       "<style scoped>\n",
       "    .dataframe tbody tr th:only-of-type {\n",
       "        vertical-align: middle;\n",
       "    }\n",
       "\n",
       "    .dataframe tbody tr th {\n",
       "        vertical-align: top;\n",
       "    }\n",
       "\n",
       "    .dataframe thead th {\n",
       "        text-align: right;\n",
       "    }\n",
       "</style>\n",
       "<table border=\"1\" class=\"dataframe\">\n",
       "  <thead>\n",
       "    <tr style=\"text-align: right;\">\n",
       "      <th></th>\n",
       "      <th>starttime</th>\n",
       "      <th>Nb_pickups</th>\n",
       "      <th>hour</th>\n",
       "      <th>day</th>\n",
       "      <th>Nb_pickups_lag1</th>\n",
       "      <th>Nb_pickups_lag2</th>\n",
       "      <th>Nb_pickups_lag3</th>\n",
       "      <th>Nb_pickups_lag4</th>\n",
       "      <th>Nb_pickups_lag5</th>\n",
       "      <th>Nb_pickups_lag6</th>\n",
       "      <th>...</th>\n",
       "      <th>Nb_pickups_lag159</th>\n",
       "      <th>Nb_pickups_lag160</th>\n",
       "      <th>Nb_pickups_lag161</th>\n",
       "      <th>Nb_pickups_lag162</th>\n",
       "      <th>Nb_pickups_lag163</th>\n",
       "      <th>Nb_pickups_lag164</th>\n",
       "      <th>Nb_pickups_lag165</th>\n",
       "      <th>Nb_pickups_lag166</th>\n",
       "      <th>Nb_pickups_lag167</th>\n",
       "      <th>Nb_pickups_lag168</th>\n",
       "    </tr>\n",
       "  </thead>\n",
       "  <tbody>\n",
       "    <tr>\n",
       "      <td>168</td>\n",
       "      <td>2018-01-08 00:00:00</td>\n",
       "      <td>43</td>\n",
       "      <td>0</td>\n",
       "      <td>8</td>\n",
       "      <td>94.0</td>\n",
       "      <td>140.0</td>\n",
       "      <td>169.0</td>\n",
       "      <td>209.0</td>\n",
       "      <td>293.0</td>\n",
       "      <td>398.0</td>\n",
       "      <td>...</td>\n",
       "      <td>162.0</td>\n",
       "      <td>116.0</td>\n",
       "      <td>68.0</td>\n",
       "      <td>39.0</td>\n",
       "      <td>26.0</td>\n",
       "      <td>34.0</td>\n",
       "      <td>72.0</td>\n",
       "      <td>98.0</td>\n",
       "      <td>168.0</td>\n",
       "      <td>119.0</td>\n",
       "    </tr>\n",
       "    <tr>\n",
       "      <td>169</td>\n",
       "      <td>2018-01-08 01:00:00</td>\n",
       "      <td>24</td>\n",
       "      <td>1</td>\n",
       "      <td>8</td>\n",
       "      <td>43.0</td>\n",
       "      <td>94.0</td>\n",
       "      <td>140.0</td>\n",
       "      <td>169.0</td>\n",
       "      <td>209.0</td>\n",
       "      <td>293.0</td>\n",
       "      <td>...</td>\n",
       "      <td>218.0</td>\n",
       "      <td>162.0</td>\n",
       "      <td>116.0</td>\n",
       "      <td>68.0</td>\n",
       "      <td>39.0</td>\n",
       "      <td>26.0</td>\n",
       "      <td>34.0</td>\n",
       "      <td>72.0</td>\n",
       "      <td>98.0</td>\n",
       "      <td>168.0</td>\n",
       "    </tr>\n",
       "    <tr>\n",
       "      <td>170</td>\n",
       "      <td>2018-01-08 02:00:00</td>\n",
       "      <td>17</td>\n",
       "      <td>2</td>\n",
       "      <td>8</td>\n",
       "      <td>24.0</td>\n",
       "      <td>43.0</td>\n",
       "      <td>94.0</td>\n",
       "      <td>140.0</td>\n",
       "      <td>169.0</td>\n",
       "      <td>209.0</td>\n",
       "      <td>...</td>\n",
       "      <td>349.0</td>\n",
       "      <td>218.0</td>\n",
       "      <td>162.0</td>\n",
       "      <td>116.0</td>\n",
       "      <td>68.0</td>\n",
       "      <td>39.0</td>\n",
       "      <td>26.0</td>\n",
       "      <td>34.0</td>\n",
       "      <td>72.0</td>\n",
       "      <td>98.0</td>\n",
       "    </tr>\n",
       "    <tr>\n",
       "      <td>171</td>\n",
       "      <td>2018-01-08 03:00:00</td>\n",
       "      <td>13</td>\n",
       "      <td>3</td>\n",
       "      <td>8</td>\n",
       "      <td>17.0</td>\n",
       "      <td>24.0</td>\n",
       "      <td>43.0</td>\n",
       "      <td>94.0</td>\n",
       "      <td>140.0</td>\n",
       "      <td>169.0</td>\n",
       "      <td>...</td>\n",
       "      <td>385.0</td>\n",
       "      <td>349.0</td>\n",
       "      <td>218.0</td>\n",
       "      <td>162.0</td>\n",
       "      <td>116.0</td>\n",
       "      <td>68.0</td>\n",
       "      <td>39.0</td>\n",
       "      <td>26.0</td>\n",
       "      <td>34.0</td>\n",
       "      <td>72.0</td>\n",
       "    </tr>\n",
       "    <tr>\n",
       "      <td>172</td>\n",
       "      <td>2018-01-08 04:00:00</td>\n",
       "      <td>35</td>\n",
       "      <td>4</td>\n",
       "      <td>8</td>\n",
       "      <td>13.0</td>\n",
       "      <td>17.0</td>\n",
       "      <td>24.0</td>\n",
       "      <td>43.0</td>\n",
       "      <td>94.0</td>\n",
       "      <td>140.0</td>\n",
       "      <td>...</td>\n",
       "      <td>444.0</td>\n",
       "      <td>385.0</td>\n",
       "      <td>349.0</td>\n",
       "      <td>218.0</td>\n",
       "      <td>162.0</td>\n",
       "      <td>116.0</td>\n",
       "      <td>68.0</td>\n",
       "      <td>39.0</td>\n",
       "      <td>26.0</td>\n",
       "      <td>34.0</td>\n",
       "    </tr>\n",
       "    <tr>\n",
       "      <td>...</td>\n",
       "      <td>...</td>\n",
       "      <td>...</td>\n",
       "      <td>...</td>\n",
       "      <td>...</td>\n",
       "      <td>...</td>\n",
       "      <td>...</td>\n",
       "      <td>...</td>\n",
       "      <td>...</td>\n",
       "      <td>...</td>\n",
       "      <td>...</td>\n",
       "      <td>...</td>\n",
       "      <td>...</td>\n",
       "      <td>...</td>\n",
       "      <td>...</td>\n",
       "      <td>...</td>\n",
       "      <td>...</td>\n",
       "      <td>...</td>\n",
       "      <td>...</td>\n",
       "      <td>...</td>\n",
       "      <td>...</td>\n",
       "      <td>...</td>\n",
       "    </tr>\n",
       "    <tr>\n",
       "      <td>1411</td>\n",
       "      <td>2018-02-28 19:00:00</td>\n",
       "      <td>3275</td>\n",
       "      <td>19</td>\n",
       "      <td>28</td>\n",
       "      <td>4989.0</td>\n",
       "      <td>5739.0</td>\n",
       "      <td>3389.0</td>\n",
       "      <td>2609.0</td>\n",
       "      <td>2436.0</td>\n",
       "      <td>2339.0</td>\n",
       "      <td>...</td>\n",
       "      <td>58.0</td>\n",
       "      <td>57.0</td>\n",
       "      <td>76.0</td>\n",
       "      <td>159.0</td>\n",
       "      <td>305.0</td>\n",
       "      <td>639.0</td>\n",
       "      <td>961.0</td>\n",
       "      <td>1133.0</td>\n",
       "      <td>2210.0</td>\n",
       "      <td>3499.0</td>\n",
       "    </tr>\n",
       "    <tr>\n",
       "      <td>1412</td>\n",
       "      <td>2018-02-28 20:00:00</td>\n",
       "      <td>2198</td>\n",
       "      <td>20</td>\n",
       "      <td>28</td>\n",
       "      <td>3275.0</td>\n",
       "      <td>4989.0</td>\n",
       "      <td>5739.0</td>\n",
       "      <td>3389.0</td>\n",
       "      <td>2609.0</td>\n",
       "      <td>2436.0</td>\n",
       "      <td>...</td>\n",
       "      <td>320.0</td>\n",
       "      <td>58.0</td>\n",
       "      <td>57.0</td>\n",
       "      <td>76.0</td>\n",
       "      <td>159.0</td>\n",
       "      <td>305.0</td>\n",
       "      <td>639.0</td>\n",
       "      <td>961.0</td>\n",
       "      <td>1133.0</td>\n",
       "      <td>2210.0</td>\n",
       "    </tr>\n",
       "    <tr>\n",
       "      <td>1413</td>\n",
       "      <td>2018-02-28 21:00:00</td>\n",
       "      <td>1575</td>\n",
       "      <td>21</td>\n",
       "      <td>28</td>\n",
       "      <td>2198.0</td>\n",
       "      <td>3275.0</td>\n",
       "      <td>4989.0</td>\n",
       "      <td>5739.0</td>\n",
       "      <td>3389.0</td>\n",
       "      <td>2609.0</td>\n",
       "      <td>...</td>\n",
       "      <td>1150.0</td>\n",
       "      <td>320.0</td>\n",
       "      <td>58.0</td>\n",
       "      <td>57.0</td>\n",
       "      <td>76.0</td>\n",
       "      <td>159.0</td>\n",
       "      <td>305.0</td>\n",
       "      <td>639.0</td>\n",
       "      <td>961.0</td>\n",
       "      <td>1133.0</td>\n",
       "    </tr>\n",
       "    <tr>\n",
       "      <td>1414</td>\n",
       "      <td>2018-02-28 22:00:00</td>\n",
       "      <td>1134</td>\n",
       "      <td>22</td>\n",
       "      <td>28</td>\n",
       "      <td>1575.0</td>\n",
       "      <td>2198.0</td>\n",
       "      <td>3275.0</td>\n",
       "      <td>4989.0</td>\n",
       "      <td>5739.0</td>\n",
       "      <td>3389.0</td>\n",
       "      <td>...</td>\n",
       "      <td>1687.0</td>\n",
       "      <td>1150.0</td>\n",
       "      <td>320.0</td>\n",
       "      <td>58.0</td>\n",
       "      <td>57.0</td>\n",
       "      <td>76.0</td>\n",
       "      <td>159.0</td>\n",
       "      <td>305.0</td>\n",
       "      <td>639.0</td>\n",
       "      <td>961.0</td>\n",
       "    </tr>\n",
       "    <tr>\n",
       "      <td>1415</td>\n",
       "      <td>2018-02-28 23:00:00</td>\n",
       "      <td>673</td>\n",
       "      <td>23</td>\n",
       "      <td>28</td>\n",
       "      <td>1134.0</td>\n",
       "      <td>1575.0</td>\n",
       "      <td>2198.0</td>\n",
       "      <td>3275.0</td>\n",
       "      <td>4989.0</td>\n",
       "      <td>5739.0</td>\n",
       "      <td>...</td>\n",
       "      <td>3596.0</td>\n",
       "      <td>1687.0</td>\n",
       "      <td>1150.0</td>\n",
       "      <td>320.0</td>\n",
       "      <td>58.0</td>\n",
       "      <td>57.0</td>\n",
       "      <td>76.0</td>\n",
       "      <td>159.0</td>\n",
       "      <td>305.0</td>\n",
       "      <td>639.0</td>\n",
       "    </tr>\n",
       "  </tbody>\n",
       "</table>\n",
       "<p>1248 rows × 172 columns</p>\n",
       "</div>"
      ],
      "text/plain": [
       "               starttime  Nb_pickups  hour  day  Nb_pickups_lag1  \\\n",
       "168  2018-01-08 00:00:00          43     0    8             94.0   \n",
       "169  2018-01-08 01:00:00          24     1    8             43.0   \n",
       "170  2018-01-08 02:00:00          17     2    8             24.0   \n",
       "171  2018-01-08 03:00:00          13     3    8             17.0   \n",
       "172  2018-01-08 04:00:00          35     4    8             13.0   \n",
       "...                  ...         ...   ...  ...              ...   \n",
       "1411 2018-02-28 19:00:00        3275    19   28           4989.0   \n",
       "1412 2018-02-28 20:00:00        2198    20   28           3275.0   \n",
       "1413 2018-02-28 21:00:00        1575    21   28           2198.0   \n",
       "1414 2018-02-28 22:00:00        1134    22   28           1575.0   \n",
       "1415 2018-02-28 23:00:00         673    23   28           1134.0   \n",
       "\n",
       "      Nb_pickups_lag2  Nb_pickups_lag3  Nb_pickups_lag4  Nb_pickups_lag5  \\\n",
       "168             140.0            169.0            209.0            293.0   \n",
       "169              94.0            140.0            169.0            209.0   \n",
       "170              43.0             94.0            140.0            169.0   \n",
       "171              24.0             43.0             94.0            140.0   \n",
       "172              17.0             24.0             43.0             94.0   \n",
       "...               ...              ...              ...              ...   \n",
       "1411           5739.0           3389.0           2609.0           2436.0   \n",
       "1412           4989.0           5739.0           3389.0           2609.0   \n",
       "1413           3275.0           4989.0           5739.0           3389.0   \n",
       "1414           2198.0           3275.0           4989.0           5739.0   \n",
       "1415           1575.0           2198.0           3275.0           4989.0   \n",
       "\n",
       "      Nb_pickups_lag6  ...  Nb_pickups_lag159  Nb_pickups_lag160  \\\n",
       "168             398.0  ...              162.0              116.0   \n",
       "169             293.0  ...              218.0              162.0   \n",
       "170             209.0  ...              349.0              218.0   \n",
       "171             169.0  ...              385.0              349.0   \n",
       "172             140.0  ...              444.0              385.0   \n",
       "...               ...  ...                ...                ...   \n",
       "1411           2339.0  ...               58.0               57.0   \n",
       "1412           2436.0  ...              320.0               58.0   \n",
       "1413           2609.0  ...             1150.0              320.0   \n",
       "1414           3389.0  ...             1687.0             1150.0   \n",
       "1415           5739.0  ...             3596.0             1687.0   \n",
       "\n",
       "      Nb_pickups_lag161  Nb_pickups_lag162  Nb_pickups_lag163  \\\n",
       "168                68.0               39.0               26.0   \n",
       "169               116.0               68.0               39.0   \n",
       "170               162.0              116.0               68.0   \n",
       "171               218.0              162.0              116.0   \n",
       "172               349.0              218.0              162.0   \n",
       "...                 ...                ...                ...   \n",
       "1411               76.0              159.0              305.0   \n",
       "1412               57.0               76.0              159.0   \n",
       "1413               58.0               57.0               76.0   \n",
       "1414              320.0               58.0               57.0   \n",
       "1415             1150.0              320.0               58.0   \n",
       "\n",
       "      Nb_pickups_lag164  Nb_pickups_lag165  Nb_pickups_lag166  \\\n",
       "168                34.0               72.0               98.0   \n",
       "169                26.0               34.0               72.0   \n",
       "170                39.0               26.0               34.0   \n",
       "171                68.0               39.0               26.0   \n",
       "172               116.0               68.0               39.0   \n",
       "...                 ...                ...                ...   \n",
       "1411              639.0              961.0             1133.0   \n",
       "1412              305.0              639.0              961.0   \n",
       "1413              159.0              305.0              639.0   \n",
       "1414               76.0              159.0              305.0   \n",
       "1415               57.0               76.0              159.0   \n",
       "\n",
       "      Nb_pickups_lag167  Nb_pickups_lag168  \n",
       "168               168.0              119.0  \n",
       "169                98.0              168.0  \n",
       "170                72.0               98.0  \n",
       "171                34.0               72.0  \n",
       "172                26.0               34.0  \n",
       "...                 ...                ...  \n",
       "1411             2210.0             3499.0  \n",
       "1412             1133.0             2210.0  \n",
       "1413              961.0             1133.0  \n",
       "1414              639.0              961.0  \n",
       "1415              305.0              639.0  \n",
       "\n",
       "[1248 rows x 172 columns]"
      ]
     },
     "execution_count": 16,
     "metadata": {},
     "output_type": "execute_result"
    }
   ],
   "source": [
    "#1248 is a split of first two months data\n",
    "f_lagged[:1248]"
   ]
  },
  {
   "cell_type": "code",
   "execution_count": 17,
   "id": "95fc6a8a",
   "metadata": {},
   "outputs": [],
   "source": [
    "prediction7Days=f_lagged[:1248]\n",
    "prediction7Days=prediction7Days.drop(columns=['starttime','hour','day','Nb_pickups'])"
   ]
  },
  {
   "cell_type": "code",
   "execution_count": 19,
   "id": "94c2638d",
   "metadata": {},
   "outputs": [],
   "source": [
    "yprediction7Days=f_lagged['Nb_pickups']\n",
    "yprediction7Days=yprediction7Days[:1248]"
   ]
  },
  {
   "cell_type": "code",
   "execution_count": 20,
   "id": "d73b5d06",
   "metadata": {},
   "outputs": [
    {
     "data": {
      "text/plain": [
       "array([1134., 1575., 2198., 3275., 4989., 5739., 3389., 2609., 2436.,\n",
       "       2339., 2175., 1709., 1865., 3568., 5488., 3168., 1420.,  379.,\n",
       "         64.,   35.,   71.,  134.,  277.,  523.,  962., 1427., 1956.,\n",
       "       3148., 4970., 5071., 3239., 2634., 2354., 2312., 2167., 1794.,\n",
       "       1814., 3504., 5357., 3092., 1401.,  370.,   56.,   31.,   34.,\n",
       "         89.,  211.,  464.,  908., 1313., 1976., 2967., 4672., 4896.,\n",
       "       2804., 2123., 1966., 1780., 1707., 1379., 1474., 2864., 4504.,\n",
       "       2730., 1308.,  347.,   46.,   27.,   39.,   90.,  186.,  329.,\n",
       "        556.,  757.,  937., 1272., 1518., 1677., 1751., 1548., 1275.,\n",
       "       1039.,  880.,  569.,  454.,  363.,  220.,   85.,   22.,   13.,\n",
       "         22.,   84.,  165.,  246.,  368.,  433.,  430.,  478.,  790.,\n",
       "       1051., 1292., 1221., 1198.,  898., 2481., 2674., 2779., 2776.,\n",
       "       2324., 1808., 1075.,  519.,  237.,   83.,   70.,  118.,  152.,\n",
       "        242.,  421.,  529.,  650.,  867., 1188., 1677., 1897., 1969.,\n",
       "       1514., 1303., 1145., 1130., 1110.,  896.,  938., 1956., 2980.,\n",
       "       1959., 1001.,  329.,   53.,   50.,   72.,  139.,  282.,  509.,\n",
       "        809., 1033., 1383., 2012., 2390., 1264.,  609.,  772.,  760.,\n",
       "       1101., 1500., 1325., 1431., 2704., 3596., 1687., 1150.,  320.,\n",
       "         58.,   57.,   76.,  159.,  305.,  639.])"
      ]
     },
     "execution_count": 20,
     "metadata": {},
     "output_type": "execute_result"
    }
   ],
   "source": [
    "#prediction data for 7 days"
   ]
  },
  {
   "cell_type": "code",
   "execution_count": 21,
   "id": "b79309c0",
   "metadata": {},
   "outputs": [],
   "source": [
    "x=np.c_[np.ones(len(prediction7Days)),prediction7Days]"
   ]
  },
  {
   "cell_type": "code",
   "execution_count": 22,
   "id": "9bb296d0",
   "metadata": {},
   "outputs": [],
   "source": [
    "y=np.array(yprediction7Days, ndmin=2).T"
   ]
  },
  {
   "cell_type": "code",
   "execution_count": 23,
   "id": "7152f61c",
   "metadata": {},
   "outputs": [
    {
     "name": "stdout",
     "output_type": "stream",
     "text": [
      "x (1248, 169)\n",
      "y (1248, 1)\n"
     ]
    }
   ],
   "source": [
    "#check shape"
   ]
  },
  {
   "cell_type": "code",
   "execution_count": 24,
   "id": "c885d669",
   "metadata": {},
   "outputs": [],
   "source": [
    "#regr.fit(x, y)"
   ]
  },
  {
   "cell_type": "code",
   "execution_count": 25,
   "id": "e99cc793",
   "metadata": {},
   "outputs": [
    {
     "name": "stdout",
     "output_type": "stream",
     "text": [
      "Coefficients: \n",
      " [[ 1.01119708e+02  1.27586231e+00 -6.80828553e-01  2.88780547e-01\n",
      "  -7.12948776e-02 -1.36627894e-02  2.14996942e-02 -7.43530627e-02\n",
      "  -4.36493943e-02  3.77092119e-01 -2.83725089e-01  5.34279160e-02\n",
      "   4.93339190e-02 -1.22159827e-01  9.50806326e-02 -7.70134605e-02\n",
      "   6.57566405e-02  1.07725565e-01 -2.11473265e-01  8.74872278e-02\n",
      "   9.25793339e-03 -9.54100019e-02  1.54613092e-01 -1.56152099e-01\n",
      "   4.97175651e-01 -5.28390087e-01  1.85937910e-01 -5.88043989e-04\n",
      "  -5.42013487e-02  5.32170470e-02  3.53489046e-03  9.46101158e-03\n",
      "  -4.20824002e-02 -2.89380528e-02 -1.71244426e-02  9.63633348e-02\n",
      "  -1.19799975e-01  1.07934400e-01 -3.26545019e-02 -7.60539842e-02\n",
      "   9.38550801e-02 -9.06469287e-02  6.67959865e-02  6.82436274e-03\n",
      "  -3.12318118e-02  2.57096211e-02  9.45731444e-03 -7.03404110e-02\n",
      "   5.67425298e-02 -2.55249578e-02  2.81114537e-02 -1.58665571e-02\n",
      "   2.16016409e-02 -4.72726336e-02  6.02436064e-02 -6.84391622e-02\n",
      "   1.11989401e-01 -1.61434331e-01  7.93395421e-02 -1.77950141e-02\n",
      "  -1.92373578e-02  2.52950643e-02 -1.22059854e-02  3.68415936e-02\n",
      "  -6.06955606e-02  1.37571903e-02  5.35189449e-02 -3.18925011e-02\n",
      "  -5.53864181e-03  8.58039737e-02 -1.13181358e-01  1.03782234e-01\n",
      "  -3.45498213e-02 -3.73812050e-03  5.66690832e-02 -9.29885476e-02\n",
      "   6.88627092e-02 -1.90692339e-02 -5.44562510e-02  2.67841615e-02\n",
      "  -1.68848845e-02  2.90385244e-03  8.21933220e-02 -1.36943258e-01\n",
      "   1.46019939e-01 -1.30639684e-01  3.78191141e-02 -1.98497146e-02\n",
      "   9.18440234e-02 -9.88515393e-02  6.80494318e-02 -7.15831231e-02\n",
      "   8.87268057e-02 -1.15422957e-01  7.55839870e-02 -2.69231223e-02\n",
      "  -1.99831985e-02  8.07645891e-03 -1.83897404e-02  2.27843880e-02\n",
      "  -3.57801824e-02  2.87976073e-02  8.72254866e-03 -2.28460722e-02\n",
      "   3.67093840e-02 -1.22105949e-02 -7.05395951e-02  7.91301332e-02\n",
      "  -5.79926807e-02  4.48814619e-02 -3.22391464e-03 -4.33950647e-02\n",
      "   7.28645440e-02 -6.12792084e-02  5.30377614e-03  2.38150082e-02\n",
      "  -1.13197982e-02 -1.39802790e-03  3.55227496e-02 -4.69476530e-02\n",
      "   8.54944634e-02 -1.34502148e-01  9.69995535e-02  6.05033883e-03\n",
      "  -3.18904387e-02  2.72603769e-02 -1.77262037e-02  8.12186151e-03\n",
      "  -2.33585187e-02 -6.46283592e-03  7.02027383e-02 -3.38235504e-02\n",
      "  -4.68415424e-02  1.02889944e-01 -1.29652103e-01  9.88559376e-02\n",
      "  -9.20177000e-02  1.00778216e-01 -5.02607452e-02  1.38733811e-02\n",
      "  -4.24717198e-02  6.38754628e-02 -7.95727559e-02 -1.28965146e-03\n",
      "   4.16414727e-01 -4.95824017e-01  2.66680795e-01 -1.99135038e-01\n",
      "   1.07768578e-01 -4.43963565e-02 -2.70024608e-02  1.43891369e-01\n",
      "  -7.89973720e-02 -1.02586057e-01  7.76116477e-02 -3.41476910e-02\n",
      "   6.22727726e-02 -4.10857667e-02  3.66079276e-02  1.14828410e-01\n",
      "  -2.46101312e-01  8.61410044e-02  3.61342439e-02 -3.13162990e-02\n",
      "   8.12450693e-03  2.08205902e-02 -1.11444896e-01  2.72997965e-01\n",
      "  -1.02535063e-01]]\n",
      "Mean Absolute error (MAE): 167.41\n",
      "Root Mean squared error: 244.44\n",
      "Variance score: 0.95\n"
     ]
    },
    {
     "data": {
      "image/png": "[encoded data removed]",
      "text/plain": [
       "<Figure size 432x288 with 1 Axes>"
      ]
     },
     "metadata": {
      "needs_background": "light"
     },
     "output_type": "display_data"
    }
   ],
   "source": [
    "my_plot(regr, x, y)"
   ]
  },
  {
   "cell_type": "markdown",
   "id": "996adfb0",
   "metadata": {},
   "source": [
    "## Part 2"
   ]
  },
  {
   "cell_type": "markdown",
   "id": "868f6e15",
   "metadata": {},
   "source": [
    "In part 2, the idea is to predict the pickups of November and December given first 10 months of data. \n",
    "Considering of the concept of generalization, it needs to transforms one value into a more imprecise one. I came up with two ideas. First one is to generalize the number of pickups by hour to by day. The other is to divide 24 hours to three time intervals(8 hours per each). Appearantly, the second one will have a higher accuracy compared to the first one in regression models.\n",
    "I decided to try first one first to see if R squared is higher than 0.3."
   ]
  },
  {
   "cell_type": "code",
   "execution_count": 26,
   "id": "101a8de1",
   "metadata": {},
   "outputs": [],
   "source": [
    "#generalize the number of pickups by hour to by day\n",
    "x=np.c_[np.ones(len(df)), df['day']]\n",
    "y= np.array(df['Nb_pickups'], ndmin=2).T"
   ]
  },
  {
   "cell_type": "code",
   "execution_count": 28,
   "id": "6ca219db",
   "metadata": {},
   "outputs": [],
   "source": [
    "#November have 30 days and December have 31 days\n",
    "split=-61\n",
    "x_train = x[:split]\n",
    "x_test =x[split:]\n",
    "y_train = y[:split]\n",
    "y_test = y[split:]"
   ]
  },
  {
   "cell_type": "code",
   "execution_count": 29,
   "id": "cf67bc26",
   "metadata": {},
   "outputs": [
    {
     "name": "stdout",
     "output_type": "stream",
     "text": [
      "[[1957.95730733    3.32790944]]\n"
     ]
    }
   ],
   "source": [
    "#fit(x_train, y_train)\n",
    "#get regr.coef_"
   ]
  },
  {
   "cell_type": "code",
   "execution_count": 31,
   "id": "f870b30d",
   "metadata": {},
   "outputs": [
    {
     "data": {
      "image/png": "[encoded data removed]",
      "text/plain": [
       "<Figure size 432x288 with 1 Axes>"
      ]
     },
     "metadata": {
      "needs_background": "light"
     },
     "output_type": "display_data"
    }
   ],
   "source": [
    "#use a 45 degree plot to see predicted pickups VS observed pickups"
   ]
  },
  {
   "cell_type": "code",
   "execution_count": 32,
   "id": "74949796",
   "metadata": {},
   "outputs": [
    {
     "name": "stdout",
     "output_type": "stream",
     "text": [
      "Mean Absolute error (MAE): 1512.62\n",
      "Root Mean squared error: 1862.46\n"
     ]
    }
   ],
   "source": [
    "#MAE and RMSA"
   ]
  },
  {
   "cell_type": "markdown",
   "id": "ddb48815",
   "metadata": {},
   "source": [
    "It looks awful. In order to get a high R2, I decided to use Lagged Variable Regression again."
   ]
  },
  {
   "cell_type": "code",
   "execution_count": 33,
   "id": "c50948c3",
   "metadata": {},
   "outputs": [],
   "source": [
    "f_lagged=buildLaggedFeatures(df, ['Nb_pickups'], lag=61)\n",
    "fllen=len(f_lagged)"
   ]
  },
  {
   "cell_type": "code",
   "execution_count": 34,
   "id": "ed74507d",
   "metadata": {},
   "outputs": [
    {
     "data": {
      "text/html": [
       "<div>\n",
       "<style scoped>\n",
       "    .dataframe tbody tr th:only-of-type {\n",
       "        vertical-align: middle;\n",
       "    }\n",
       "\n",
       "    .dataframe tbody tr th {\n",
       "        vertical-align: top;\n",
       "    }\n",
       "\n",
       "    .dataframe thead th {\n",
       "        text-align: right;\n",
       "    }\n",
       "</style>\n",
       "<table border=\"1\" class=\"dataframe\">\n",
       "  <thead>\n",
       "    <tr style=\"text-align: right;\">\n",
       "      <th></th>\n",
       "      <th>starttime</th>\n",
       "      <th>Nb_pickups</th>\n",
       "      <th>hour</th>\n",
       "      <th>day</th>\n",
       "      <th>Nb_pickups_lag1</th>\n",
       "      <th>Nb_pickups_lag2</th>\n",
       "      <th>Nb_pickups_lag3</th>\n",
       "      <th>Nb_pickups_lag4</th>\n",
       "      <th>Nb_pickups_lag5</th>\n",
       "      <th>Nb_pickups_lag6</th>\n",
       "      <th>...</th>\n",
       "      <th>Nb_pickups_lag52</th>\n",
       "      <th>Nb_pickups_lag53</th>\n",
       "      <th>Nb_pickups_lag54</th>\n",
       "      <th>Nb_pickups_lag55</th>\n",
       "      <th>Nb_pickups_lag56</th>\n",
       "      <th>Nb_pickups_lag57</th>\n",
       "      <th>Nb_pickups_lag58</th>\n",
       "      <th>Nb_pickups_lag59</th>\n",
       "      <th>Nb_pickups_lag60</th>\n",
       "      <th>Nb_pickups_lag61</th>\n",
       "    </tr>\n",
       "  </thead>\n",
       "  <tbody>\n",
       "    <tr>\n",
       "      <td>61</td>\n",
       "      <td>2018-01-03 13:00:00</td>\n",
       "      <td>990</td>\n",
       "      <td>13</td>\n",
       "      <td>3</td>\n",
       "      <td>922.0</td>\n",
       "      <td>853.0</td>\n",
       "      <td>940.0</td>\n",
       "      <td>1883.0</td>\n",
       "      <td>2651.0</td>\n",
       "      <td>1462.0</td>\n",
       "      <td>...</td>\n",
       "      <td>162.0</td>\n",
       "      <td>116.0</td>\n",
       "      <td>68.0</td>\n",
       "      <td>39.0</td>\n",
       "      <td>26.0</td>\n",
       "      <td>34.0</td>\n",
       "      <td>72.0</td>\n",
       "      <td>98.0</td>\n",
       "      <td>168.0</td>\n",
       "      <td>119.0</td>\n",
       "    </tr>\n",
       "    <tr>\n",
       "      <td>62</td>\n",
       "      <td>2018-01-03 14:00:00</td>\n",
       "      <td>1150</td>\n",
       "      <td>14</td>\n",
       "      <td>3</td>\n",
       "      <td>990.0</td>\n",
       "      <td>922.0</td>\n",
       "      <td>853.0</td>\n",
       "      <td>940.0</td>\n",
       "      <td>1883.0</td>\n",
       "      <td>2651.0</td>\n",
       "      <td>...</td>\n",
       "      <td>218.0</td>\n",
       "      <td>162.0</td>\n",
       "      <td>116.0</td>\n",
       "      <td>68.0</td>\n",
       "      <td>39.0</td>\n",
       "      <td>26.0</td>\n",
       "      <td>34.0</td>\n",
       "      <td>72.0</td>\n",
       "      <td>98.0</td>\n",
       "      <td>168.0</td>\n",
       "    </tr>\n",
       "    <tr>\n",
       "      <td>63</td>\n",
       "      <td>2018-01-03 15:00:00</td>\n",
       "      <td>1212</td>\n",
       "      <td>15</td>\n",
       "      <td>3</td>\n",
       "      <td>1150.0</td>\n",
       "      <td>990.0</td>\n",
       "      <td>922.0</td>\n",
       "      <td>853.0</td>\n",
       "      <td>940.0</td>\n",
       "      <td>1883.0</td>\n",
       "      <td>...</td>\n",
       "      <td>349.0</td>\n",
       "      <td>218.0</td>\n",
       "      <td>162.0</td>\n",
       "      <td>116.0</td>\n",
       "      <td>68.0</td>\n",
       "      <td>39.0</td>\n",
       "      <td>26.0</td>\n",
       "      <td>34.0</td>\n",
       "      <td>72.0</td>\n",
       "      <td>98.0</td>\n",
       "    </tr>\n",
       "    <tr>\n",
       "      <td>64</td>\n",
       "      <td>2018-01-03 16:00:00</td>\n",
       "      <td>1643</td>\n",
       "      <td>16</td>\n",
       "      <td>3</td>\n",
       "      <td>1212.0</td>\n",
       "      <td>1150.0</td>\n",
       "      <td>990.0</td>\n",
       "      <td>922.0</td>\n",
       "      <td>853.0</td>\n",
       "      <td>940.0</td>\n",
       "      <td>...</td>\n",
       "      <td>385.0</td>\n",
       "      <td>349.0</td>\n",
       "      <td>218.0</td>\n",
       "      <td>162.0</td>\n",
       "      <td>116.0</td>\n",
       "      <td>68.0</td>\n",
       "      <td>39.0</td>\n",
       "      <td>26.0</td>\n",
       "      <td>34.0</td>\n",
       "      <td>72.0</td>\n",
       "    </tr>\n",
       "    <tr>\n",
       "      <td>65</td>\n",
       "      <td>2018-01-03 17:00:00</td>\n",
       "      <td>2681</td>\n",
       "      <td>17</td>\n",
       "      <td>3</td>\n",
       "      <td>1643.0</td>\n",
       "      <td>1212.0</td>\n",
       "      <td>1150.0</td>\n",
       "      <td>990.0</td>\n",
       "      <td>922.0</td>\n",
       "      <td>853.0</td>\n",
       "      <td>...</td>\n",
       "      <td>444.0</td>\n",
       "      <td>385.0</td>\n",
       "      <td>349.0</td>\n",
       "      <td>218.0</td>\n",
       "      <td>162.0</td>\n",
       "      <td>116.0</td>\n",
       "      <td>68.0</td>\n",
       "      <td>39.0</td>\n",
       "      <td>26.0</td>\n",
       "      <td>34.0</td>\n",
       "    </tr>\n",
       "    <tr>\n",
       "      <td>...</td>\n",
       "      <td>...</td>\n",
       "      <td>...</td>\n",
       "      <td>...</td>\n",
       "      <td>...</td>\n",
       "      <td>...</td>\n",
       "      <td>...</td>\n",
       "      <td>...</td>\n",
       "      <td>...</td>\n",
       "      <td>...</td>\n",
       "      <td>...</td>\n",
       "      <td>...</td>\n",
       "      <td>...</td>\n",
       "      <td>...</td>\n",
       "      <td>...</td>\n",
       "      <td>...</td>\n",
       "      <td>...</td>\n",
       "      <td>...</td>\n",
       "      <td>...</td>\n",
       "      <td>...</td>\n",
       "      <td>...</td>\n",
       "      <td>...</td>\n",
       "    </tr>\n",
       "    <tr>\n",
       "      <td>8694</td>\n",
       "      <td>2018-12-29 06:00:00</td>\n",
       "      <td>172</td>\n",
       "      <td>6</td>\n",
       "      <td>29</td>\n",
       "      <td>71.0</td>\n",
       "      <td>79.0</td>\n",
       "      <td>129.0</td>\n",
       "      <td>181.0</td>\n",
       "      <td>319.0</td>\n",
       "      <td>428.0</td>\n",
       "      <td>...</td>\n",
       "      <td>74.0</td>\n",
       "      <td>115.0</td>\n",
       "      <td>256.0</td>\n",
       "      <td>410.0</td>\n",
       "      <td>574.0</td>\n",
       "      <td>747.0</td>\n",
       "      <td>900.0</td>\n",
       "      <td>1358.0</td>\n",
       "      <td>1863.0</td>\n",
       "      <td>2389.0</td>\n",
       "    </tr>\n",
       "    <tr>\n",
       "      <td>8695</td>\n",
       "      <td>2018-12-29 07:00:00</td>\n",
       "      <td>383</td>\n",
       "      <td>7</td>\n",
       "      <td>29</td>\n",
       "      <td>172.0</td>\n",
       "      <td>71.0</td>\n",
       "      <td>79.0</td>\n",
       "      <td>129.0</td>\n",
       "      <td>181.0</td>\n",
       "      <td>319.0</td>\n",
       "      <td>...</td>\n",
       "      <td>41.0</td>\n",
       "      <td>74.0</td>\n",
       "      <td>115.0</td>\n",
       "      <td>256.0</td>\n",
       "      <td>410.0</td>\n",
       "      <td>574.0</td>\n",
       "      <td>747.0</td>\n",
       "      <td>900.0</td>\n",
       "      <td>1358.0</td>\n",
       "      <td>1863.0</td>\n",
       "    </tr>\n",
       "    <tr>\n",
       "      <td>8696</td>\n",
       "      <td>2018-12-29 08:00:00</td>\n",
       "      <td>820</td>\n",
       "      <td>8</td>\n",
       "      <td>29</td>\n",
       "      <td>383.0</td>\n",
       "      <td>172.0</td>\n",
       "      <td>71.0</td>\n",
       "      <td>79.0</td>\n",
       "      <td>129.0</td>\n",
       "      <td>181.0</td>\n",
       "      <td>...</td>\n",
       "      <td>85.0</td>\n",
       "      <td>41.0</td>\n",
       "      <td>74.0</td>\n",
       "      <td>115.0</td>\n",
       "      <td>256.0</td>\n",
       "      <td>410.0</td>\n",
       "      <td>574.0</td>\n",
       "      <td>747.0</td>\n",
       "      <td>900.0</td>\n",
       "      <td>1358.0</td>\n",
       "    </tr>\n",
       "    <tr>\n",
       "      <td>8697</td>\n",
       "      <td>2018-12-29 09:00:00</td>\n",
       "      <td>1407</td>\n",
       "      <td>9</td>\n",
       "      <td>29</td>\n",
       "      <td>820.0</td>\n",
       "      <td>383.0</td>\n",
       "      <td>172.0</td>\n",
       "      <td>71.0</td>\n",
       "      <td>79.0</td>\n",
       "      <td>129.0</td>\n",
       "      <td>...</td>\n",
       "      <td>230.0</td>\n",
       "      <td>85.0</td>\n",
       "      <td>41.0</td>\n",
       "      <td>74.0</td>\n",
       "      <td>115.0</td>\n",
       "      <td>256.0</td>\n",
       "      <td>410.0</td>\n",
       "      <td>574.0</td>\n",
       "      <td>747.0</td>\n",
       "      <td>900.0</td>\n",
       "    </tr>\n",
       "    <tr>\n",
       "      <td>8698</td>\n",
       "      <td>2018-12-29 10:00:00</td>\n",
       "      <td>1989</td>\n",
       "      <td>10</td>\n",
       "      <td>29</td>\n",
       "      <td>1407.0</td>\n",
       "      <td>820.0</td>\n",
       "      <td>383.0</td>\n",
       "      <td>172.0</td>\n",
       "      <td>71.0</td>\n",
       "      <td>79.0</td>\n",
       "      <td>...</td>\n",
       "      <td>688.0</td>\n",
       "      <td>230.0</td>\n",
       "      <td>85.0</td>\n",
       "      <td>41.0</td>\n",
       "      <td>74.0</td>\n",
       "      <td>115.0</td>\n",
       "      <td>256.0</td>\n",
       "      <td>410.0</td>\n",
       "      <td>574.0</td>\n",
       "      <td>747.0</td>\n",
       "    </tr>\n",
       "  </tbody>\n",
       "</table>\n",
       "<p>8638 rows × 65 columns</p>\n",
       "</div>"
      ],
      "text/plain": [
       "               starttime  Nb_pickups  hour  day  Nb_pickups_lag1  \\\n",
       "61   2018-01-03 13:00:00         990    13    3            922.0   \n",
       "62   2018-01-03 14:00:00        1150    14    3            990.0   \n",
       "63   2018-01-03 15:00:00        1212    15    3           1150.0   \n",
       "64   2018-01-03 16:00:00        1643    16    3           1212.0   \n",
       "65   2018-01-03 17:00:00        2681    17    3           1643.0   \n",
       "...                  ...         ...   ...  ...              ...   \n",
       "8694 2018-12-29 06:00:00         172     6   29             71.0   \n",
       "8695 2018-12-29 07:00:00         383     7   29            172.0   \n",
       "8696 2018-12-29 08:00:00         820     8   29            383.0   \n",
       "8697 2018-12-29 09:00:00        1407     9   29            820.0   \n",
       "8698 2018-12-29 10:00:00        1989    10   29           1407.0   \n",
       "\n",
       "      Nb_pickups_lag2  Nb_pickups_lag3  Nb_pickups_lag4  Nb_pickups_lag5  \\\n",
       "61              853.0            940.0           1883.0           2651.0   \n",
       "62              922.0            853.0            940.0           1883.0   \n",
       "63              990.0            922.0            853.0            940.0   \n",
       "64             1150.0            990.0            922.0            853.0   \n",
       "65             1212.0           1150.0            990.0            922.0   \n",
       "...               ...              ...              ...              ...   \n",
       "8694             79.0            129.0            181.0            319.0   \n",
       "8695             71.0             79.0            129.0            181.0   \n",
       "8696            172.0             71.0             79.0            129.0   \n",
       "8697            383.0            172.0             71.0             79.0   \n",
       "8698            820.0            383.0            172.0             71.0   \n",
       "\n",
       "      Nb_pickups_lag6  ...  Nb_pickups_lag52  Nb_pickups_lag53  \\\n",
       "61             1462.0  ...             162.0             116.0   \n",
       "62             2651.0  ...             218.0             162.0   \n",
       "63             1883.0  ...             349.0             218.0   \n",
       "64              940.0  ...             385.0             349.0   \n",
       "65              853.0  ...             444.0             385.0   \n",
       "...               ...  ...               ...               ...   \n",
       "8694            428.0  ...              74.0             115.0   \n",
       "8695            319.0  ...              41.0              74.0   \n",
       "8696            181.0  ...              85.0              41.0   \n",
       "8697            129.0  ...             230.0              85.0   \n",
       "8698             79.0  ...             688.0             230.0   \n",
       "\n",
       "      Nb_pickups_lag54  Nb_pickups_lag55  Nb_pickups_lag56  Nb_pickups_lag57  \\\n",
       "61                68.0              39.0              26.0              34.0   \n",
       "62               116.0              68.0              39.0              26.0   \n",
       "63               162.0             116.0              68.0              39.0   \n",
       "64               218.0             162.0             116.0              68.0   \n",
       "65               349.0             218.0             162.0             116.0   \n",
       "...                ...               ...               ...               ...   \n",
       "8694             256.0             410.0             574.0             747.0   \n",
       "8695             115.0             256.0             410.0             574.0   \n",
       "8696              74.0             115.0             256.0             410.0   \n",
       "8697              41.0              74.0             115.0             256.0   \n",
       "8698              85.0              41.0              74.0             115.0   \n",
       "\n",
       "      Nb_pickups_lag58  Nb_pickups_lag59  Nb_pickups_lag60  Nb_pickups_lag61  \n",
       "61                72.0              98.0             168.0             119.0  \n",
       "62                34.0              72.0              98.0             168.0  \n",
       "63                26.0              34.0              72.0              98.0  \n",
       "64                39.0              26.0              34.0              72.0  \n",
       "65                68.0              39.0              26.0              34.0  \n",
       "...                ...               ...               ...               ...  \n",
       "8694             900.0            1358.0            1863.0            2389.0  \n",
       "8695             747.0             900.0            1358.0            1863.0  \n",
       "8696             574.0             747.0             900.0            1358.0  \n",
       "8697             410.0             574.0             747.0             900.0  \n",
       "8698             256.0             410.0             574.0             747.0  \n",
       "\n",
       "[8638 rows x 65 columns]"
      ]
     },
     "execution_count": 34,
     "metadata": {},
     "output_type": "execute_result"
    }
   ],
   "source": [
    "f_lagged[:-61]"
   ]
  },
  {
   "cell_type": "code",
   "execution_count": 35,
   "id": "7ce53350",
   "metadata": {},
   "outputs": [],
   "source": [
    "prediction2Months=f_lagged[:-61]\n",
    "prediction2Months=prediction2Months.drop(columns=['starttime','hour','Nb_pickups',\n",
    "                                             'day'])"
   ]
  },
  {
   "cell_type": "code",
   "execution_count": 36,
   "id": "14b0ecf9",
   "metadata": {},
   "outputs": [],
   "source": [
    "yprediction2Months=f_lagged['Nb_pickups']"
   ]
  },
  {
   "cell_type": "code",
   "execution_count": 37,
   "id": "d265d754",
   "metadata": {},
   "outputs": [],
   "source": [
    "yprediction2Months=yprediction2Months[:-61]"
   ]
  },
  {
   "cell_type": "code",
   "execution_count": 39,
   "id": "04a728d0",
   "metadata": {},
   "outputs": [],
   "source": [
    "x=np.c_[np.ones(len(prediction2Months)),prediction2Months]"
   ]
  },
  {
   "cell_type": "code",
   "execution_count": 40,
   "id": "7a47062c",
   "metadata": {},
   "outputs": [],
   "source": [
    "y=np.array(yprediction2Months, ndmin=2).T"
   ]
  },
  {
   "cell_type": "code",
   "execution_count": 41,
   "id": "f97b78bf",
   "metadata": {},
   "outputs": [],
   "source": [
    "#regr.fit(x, y)"
   ]
  },
  {
   "cell_type": "code",
   "execution_count": 42,
   "id": "025b79e9",
   "metadata": {},
   "outputs": [
    {
     "name": "stdout",
     "output_type": "stream",
     "text": [
      "Coefficients: \n",
      " [[ 8.52818470e+01  1.28744161e+00 -6.91102421e-01  2.49696810e-01\n",
      "  -8.03903712e-02  9.02997701e-03  5.72882783e-03 -5.34740088e-02\n",
      "  -5.12406886e-02  3.27552811e-01 -2.02749564e-01 -8.93523477e-03\n",
      "   7.77475604e-02 -9.91763295e-02  1.41610673e-01 -5.21600673e-02\n",
      "  -7.70758160e-02  1.26107692e-01 -1.14379746e-01  1.15406204e-02\n",
      "   3.85597263e-02 -6.03499662e-02  5.33545311e-02  3.81972844e-02\n",
      "   5.04431830e-01 -6.46901953e-01  2.59181226e-01 -5.16692286e-02\n",
      "   3.33562955e-02 -4.56589509e-02  3.81964361e-02  4.06810431e-02\n",
      "  -6.12285885e-02 -7.83849099e-02  9.91174587e-03  5.70880468e-02\n",
      "  -4.90380525e-02  1.97743170e-02 -5.27027820e-02  3.78396445e-02\n",
      "  -8.37670639e-03  1.40621611e-02 -1.21726305e-02  4.90580245e-02\n",
      "  -1.83858146e-02  1.94149204e-02  2.66891211e-03 -3.05070859e-02\n",
      "   9.64986078e-02 -8.10286189e-02  7.72833068e-02 -3.96450368e-02\n",
      "   2.20365855e-02 -3.87015812e-03  2.61586284e-04 -1.33446007e-02\n",
      "   4.39278927e-02 -5.14692409e-02  1.09451049e-02 -5.54857208e-03\n",
      "  -2.55698580e-02  2.11731480e-02]]\n",
      "Mean Absolute error (MAE): 309.53\n",
      "Root Mean squared error: 493.88\n",
      "Variance score: 0.93\n"
     ]
    },
    {
     "data": {
      "image/png": "[encoded data removed]",
      "text/plain": [
       "<Figure size 432x288 with 1 Axes>"
      ]
     },
     "metadata": {
      "needs_background": "light"
     },
     "output_type": "display_data"
    }
   ],
   "source": [
    "my_plot(regr, x, y)"
   ]
  },
  {
   "cell_type": "markdown",
   "id": "5b8dca88",
   "metadata": {},
   "source": [
    "## Conclusion"
   ]
  },
  {
   "cell_type": "markdown",
   "id": "f58c2d88",
   "metadata": {},
   "source": [
    "Generally, Lagged Variable Regression is a good model which has a high accuracy. The difference between RMSE and MAE is always lower than the orignal one. It means the variance in the individual errors decreased.\n",
    "I also tried Ridge and Lasso model which normally have a good performance and can normalize data automatically. It only gives 0.14 as R squared.(codes shown in appendix)\n",
    "It shows us the higher variance model fits discrete data more."
   ]
  },
  {
   "cell_type": "markdown",
   "id": "b55b4cde",
   "metadata": {},
   "source": [
    "## Reflection"
   ]
  },
  {
   "cell_type": "markdown",
   "id": "46a5cbdf",
   "metadata": {},
   "source": [
    "1. The numbers of pickups are not accurate here. All trip duration which are more than one hour should be counted in by adding 1 pickup number in the next hours.\n",
    "2. In part 2, even though I generalized pickup per hour to per day, I still used a high variance model which could cause overfit. "
   ]
  },
  {
   "cell_type": "markdown",
   "id": "5562468f",
   "metadata": {},
   "source": [
    "# Appendix"
   ]
  },
  {
   "cell_type": "code",
   "execution_count": null,
   "id": "46878298",
   "metadata": {},
   "outputs": [],
   "source": [
    "# imports\n",
    "import numpy as np\n",
    "import pandas as pd\n",
    "from sklearn.model_selection import train_test_split\n",
    "from sklearn import decomposition\n",
    "from sklearn.linear_model import LogisticRegression\n",
    "import datetime as df\n",
    "import matplotlib.pyplot as plt\n",
    "%matplotlib inline\n",
    "from sklearn.metrics import confusion_matrix\n",
    "from sklearn import datasets, linear_model\n",
    "from sklearn.metrics import r2_score"
   ]
  },
  {
   "cell_type": "markdown",
   "id": "3072f4e6",
   "metadata": {},
   "source": [
    "The code can not be run in this part since the whole codes were splitted in report and appendix. There is an individual notebook called \"Appendix 2\". That can be run all."
   ]
  },
  {
   "cell_type": "code",
   "execution_count": null,
   "id": "f1a2f6d2",
   "metadata": {},
   "outputs": [],
   "source": [
    "regr=linear_model.LinearRegression(fit_intercept=False)\n",
    "regr.fit(x_train, y_train);\n",
    "print(regr.coef_)"
   ]
  },
  {
   "cell_type": "code",
   "execution_count": null,
   "id": "3527bfca",
   "metadata": {},
   "outputs": [],
   "source": [
    "plt.scatter(y_train, regr.predict(x_train))\n",
    "plt.xlabel(\"predicted\")\n",
    "plt.ylabel(\"observed\")\n",
    "plt.plot([0, 7000], [0, 7000], color=\"red\")\n",
    "plt.show()"
   ]
  },
  {
   "cell_type": "code",
   "execution_count": null,
   "id": "ed729cb5",
   "metadata": {},
   "outputs": [],
   "source": [
    "print(\"Mean Absolute error (MAE): %.2f\"% np.mean(abs(regr.predict(x_train) - y_train)))\n",
    "# The mean squared error\n",
    "print(\"Root Mean squared error: %.2f\"\n",
    "      % np.sqrt(np.mean((regr.predict(x_train) - y_train) ** 2)))"
   ]
  },
  {
   "cell_type": "code",
   "execution_count": null,
   "id": "de1c3d50",
   "metadata": {},
   "outputs": [],
   "source": [
    "df.corr()"
   ]
  },
  {
   "cell_type": "code",
   "execution_count": null,
   "id": "233c558b",
   "metadata": {},
   "outputs": [],
   "source": [
    "#prediction data for 7 days\n",
    "prediction7Day = prediction7Days.iloc[-1].to_numpy()"
   ]
  },
  {
   "cell_type": "code",
   "execution_count": null,
   "id": "ac274b91",
   "metadata": {},
   "outputs": [],
   "source": [
    "print(\"x\", x.shape)\n",
    "print(\"y\", y.shape)"
   ]
  },
  {
   "cell_type": "code",
   "execution_count": null,
   "id": "eafd7dae",
   "metadata": {},
   "outputs": [],
   "source": [
    "regr=linear_model.LinearRegression(fit_intercept=False)\n",
    "regr.fit(x, y);"
   ]
  },
  {
   "cell_type": "code",
   "execution_count": null,
   "id": "9429dd59",
   "metadata": {},
   "outputs": [],
   "source": [
    "def buildLaggedFeatures(s,columns, lag=168,dropna=True):\n",
    "    '''\n",
    "    From http://stackoverflow.com/questions/20410312/how-to-create-a-lagged-data-structure-using-pandas-dataframe\n",
    "    Builds a new DataFrame to facilitate regressing over all possible lagged features\n",
    "    '''\n",
    "    if type(s) is pd.DataFrame:\n",
    "        new_dict={}\n",
    "        for c in s.columns:\n",
    "            new_dict[c]=s[c]\n",
    "        for col_name in columns:\n",
    "            new_dict[col_name]=s[col_name]\n",
    "            # create lagged Series\n",
    "            for l in range(1,lag+1):\n",
    "                new_dict['%s_lag%d' %(col_name,l)]=s[col_name].shift(l)\n",
    "        res=pd.DataFrame(new_dict,index=s.index)\n",
    "\n",
    "    elif type(s) is pd.Series:\n",
    "        the_range=range(lag+1)\n",
    "        res=pd.concat([s.shift(i) for i in the_range],axis=1)\n",
    "        res.columns=['lag_%d' %i for i in the_range]\n",
    "    else:\n",
    "        print('Only works for DataFrame or Series')\n",
    "        return None\n",
    "    if dropna:\n",
    "        return res.dropna()\n",
    "    else:\n",
    "        return res "
   ]
  },
  {
   "cell_type": "code",
   "execution_count": null,
   "id": "b66bf776",
   "metadata": {},
   "outputs": [],
   "source": [
    "def my_plot(regr, X, y, Xlab=\"x\", ylab=\"y\", size=0.1, reg=True):\n",
    "\n",
    "    # The coefficients\n",
    "    print('Coefficients: \\n', regr.coef_)\n",
    "    # The mean absolute error    \n",
    "    print(\"Mean Absolute error (MAE): %.2f\"% np.mean(abs(regr.predict(X) - y)))\n",
    "    # The mean squared error\n",
    "    print(\"Root Mean squared error: %.2f\"\n",
    "          % np.sqrt(np.mean((regr.predict(X) - y) ** 2)))\n",
    "    # Explained variance score: 1 is perfect prediction\n",
    "    print('Variance score: %.2f' % regr.score(X, y))\n",
    "\n",
    "    if X.shape[1]>1:\n",
    "        X_uni=X[:,1]\n",
    "    else:\n",
    "        X_uni=X\n",
    "            \n",
    "    # Plot outputs\n",
    "    plt.scatter(X_uni, y,  color='black', s=size)\n",
    "    if reg:\n",
    "        plt.plot(X_uni, regr.predict(x), color='blue',linewidth=3)\n",
    "    plt.rc('xtick', labelsize=10)    # fontsize of the tick labels\n",
    "    plt.rc('ytick', labelsize=10)    # fontsize of the tick labels\n",
    "    plt.xlabel(Xlab)\n",
    "    plt.ylabel(ylab)\n",
    "\n",
    "    plt.show()"
   ]
  },
  {
   "cell_type": "markdown",
   "id": "e6600019",
   "metadata": {},
   "source": [
    "## Ridge regression"
   ]
  },
  {
   "cell_type": "code",
   "execution_count": null,
   "id": "ba1480b9",
   "metadata": {},
   "outputs": [],
   "source": [
    "from sklearn.preprocessing import scale \n",
    "from sklearn.model_selection import train_test_split\n",
    "from sklearn.linear_model import LinearRegression, Ridge, RidgeCV, Lasso, LassoCV\n",
    "from sklearn.metrics import mean_squared_error\n",
    "from sklearn.preprocessing import MinMaxScaler\n",
    "from sklearn.preprocessing import StandardScaler"
   ]
  },
  {
   "cell_type": "code",
   "execution_count": null,
   "id": "2c8e7ecf",
   "metadata": {},
   "outputs": [],
   "source": [
    "y=df['Nb_pickups'].to_numpy()\n",
    "y=y.reshape(-1,1)\n",
    "\n",
    "X=df['hour'].to_numpy()\n",
    "X=X.reshape(-1,1)"
   ]
  },
  {
   "cell_type": "code",
   "execution_count": null,
   "id": "e63f7458",
   "metadata": {},
   "outputs": [],
   "source": [
    "alphas = 10**np.linspace(-10, 10, 100)"
   ]
  },
  {
   "cell_type": "code",
   "execution_count": null,
   "id": "b871cb0f",
   "metadata": {},
   "outputs": [],
   "source": [
    "ridge = Ridge(normalize = True)\n",
    "coefs = []\n",
    "\n",
    "for a in alphas:\n",
    "    ridge.set_params(alpha = a)\n",
    "    ridge.fit(X, y)\n",
    "    coefs.append(ridge.coef_)\n",
    "    \n",
    "np.shape(coefs)\n",
    "hour_coefficients = [coef[0] for coef in coefs]"
   ]
  },
  {
   "cell_type": "code",
   "execution_count": null,
   "id": "729583c6",
   "metadata": {},
   "outputs": [],
   "source": [
    "ax = plt.gca()\n",
    "ax.set_xscale('log')\n",
    "ax.plot(alphas, hour_coefficients, label=\"hour coefficient\")\n",
    "\n",
    "plt.legend()\n",
    "plt.axis('tight')\n",
    "plt.xlabel('alpha')\n",
    "plt.ylabel('weights')"
   ]
  },
  {
   "cell_type": "code",
   "execution_count": null,
   "id": "fa140244",
   "metadata": {},
   "outputs": [],
   "source": [
    "for alpha in [alphas[0], alphas[50], alphas[-1]]:\n",
    "    ridge = Ridge(normalize=True, alpha=alpha)\n",
    "    ridge.fit(x_train, y_train)\n",
    "    print(\"alhpa = {}\".format(alpha))\n",
    "    print(\"R^2 on train data is {} and on test data is {}\".format(ridge.score(x_train, y_train), \n",
    "                                                              ridge.score(x_test,y_test)))\n",
    "    print(\"\")"
   ]
  },
  {
   "cell_type": "code",
   "execution_count": null,
   "id": "e316901a",
   "metadata": {},
   "outputs": [],
   "source": [
    "split=1392\n",
    "x_train = X[:split]\n",
    "x_test =X[split:split+168]\n",
    "y_train = y[:split]\n",
    "y_test = y[split:split+168]"
   ]
  },
  {
   "cell_type": "code",
   "execution_count": null,
   "id": "0c8477d3",
   "metadata": {},
   "outputs": [],
   "source": [
    "ridgecv = RidgeCV(alphas = alphas, normalize = True)\n",
    "ridgecv.fit(x_train, y_train)\n",
    "ridgecv.alpha_"
   ]
  },
  {
   "cell_type": "code",
   "execution_count": null,
   "id": "b2d706bb",
   "metadata": {},
   "outputs": [],
   "source": [
    "score = ridgecv.score(x_train, y_train)"
   ]
  },
  {
   "cell_type": "code",
   "execution_count": null,
   "id": "e2257c78",
   "metadata": {},
   "outputs": [],
   "source": [
    "print(\"R^2 on train data is {} and on test data is {}\".format(ridgecv.score(x_train, y_train), \n",
    "                                                              ridgecv.score(x_test,y_test)))"
   ]
  },
  {
   "cell_type": "markdown",
   "id": "5bca1917",
   "metadata": {},
   "source": [
    "## The Lasso"
   ]
  },
  {
   "cell_type": "code",
   "execution_count": null,
   "id": "ca7444aa",
   "metadata": {},
   "outputs": [],
   "source": [
    "lasso = Lasso(max_iter = 10000, normalize = True)\n",
    "coefs = []\n",
    "\n",
    "for a in alphas:\n",
    "    lasso.set_params(alpha = a)\n",
    "    lasso.fit(X_train, y_train)\n",
    "    coefs.append(lasso.coef_)\n",
    "    \n",
    "np.shape(coefs)\n",
    "hour_coefficients = [coef[0] for coef in coefs]"
   ]
  },
  {
   "cell_type": "code",
   "execution_count": null,
   "id": "493fc231",
   "metadata": {},
   "outputs": [],
   "source": [
    "ax = plt.gca()\n",
    "ax.set_xscale('log')\n",
    "ax.plot(alphas, hour_coefficients, label=\"hour coefficient\")\n",
    "plt.legend()\n",
    "plt.axis('tight')\n",
    "plt.xlabel('alpha')\n",
    "plt.ylabel('weights')"
   ]
  },
  {
   "cell_type": "code",
   "execution_count": null,
   "id": "5e6db3df",
   "metadata": {},
   "outputs": [],
   "source": [
    "lassocv = LassoCV(alphas = None, cv = 10, max_iter = 100000, normalize = True)\n",
    "lassocv.fit(x_train, y_train)\n",
    "\n",
    "lasso.set_params(alpha=lassocv.alpha_)\n",
    "lasso.fit(x_train, y_train)"
   ]
  },
  {
   "cell_type": "code",
   "execution_count": null,
   "id": "ecc18832",
   "metadata": {},
   "outputs": [],
   "source": [
    "print(\"R^2 on train data is {} and on test data is {}\".format(lassocv.score(X_train, y_train), \n",
    "                                                              lassocv.score(X_test,y_test)))"
   ]
  }
 ],
 "metadata": {
  "kernelspec": {
   "display_name": "Python 3",
   "language": "python",
   "name": "python3"
  },
  "language_info": {
   "codemirror_mode": {
    "name": "ipython",
    "version": 3
   },
   "file_extension": ".py",
   "mimetype": "text/x-python",
   "name": "python",
   "nbconvert_exporter": "python",
   "pygments_lexer": "ipython3",
   "version": "3.8.8"
  }
 },
 "nbformat": 4,
 "nbformat_minor": 5
}
