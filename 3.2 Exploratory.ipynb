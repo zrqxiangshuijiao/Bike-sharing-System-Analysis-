{
 "cells": [
  {
   "cell_type": "markdown",
   "id": "f20b85bb",
   "metadata": {
    "tags": []
   },
   "source": [
    "# 3.2 Exploratory Component"
   ]
  },
  {
   "cell_type": "markdown",
   "id": "f1ac457e-ce85-4cab-a43d-315eff1b1cf9",
   "metadata": {},
   "source": [
    "#### Miriam Pohl Khader | S194717"
   ]
  },
  {
   "cell_type": "code",
   "execution_count": 2,
   "id": "3d9d5bc4",
   "metadata": {},
   "outputs": [],
   "source": [
    "# libraries\n",
    "import pandas as pd\n",
    "import numpy as np\n",
    "import random\n",
    "\n",
    "from matplotlib import colors as mcolors\n",
    "import matplotlib.pyplot as plt\n",
    "%matplotlib inline\n",
    "\n",
    "\n",
    "from sklearn.cluster import KMeans, DBSCAN\n",
    "from sklearn.model_selection import train_test_split\n",
    "\n",
    "import folium\n",
    "from folium import plugins\n",
    "\n",
    "from folium.plugins import HeatMap\n",
    "import hdbscan\n",
    "import utm\n",
    "import ipywidgets as widgets\n",
    "from ipywidgets import interact, interactive, fixed, interact_manual\n",
    "from colour import Color\n",
    "from folium.vector_layers import CircleMarker\n",
    "import seaborn as sns"
   ]
  },
  {
   "cell_type": "code",
   "execution_count": null,
   "id": "31870c9d-380a-4366-a777-532afe442ec0",
   "metadata": {},
   "outputs": [],
   "source": [
    "dc = pd.read_csv(\"Trips_2018.csv\")"
   ]
  },
  {
   "cell_type": "code",
   "execution_count": null,
   "id": "29cd1962-7fcb-463a-ae6f-bc097696ba72",
   "metadata": {},
   "outputs": [],
   "source": [
    "y=dc['tripduration']\n",
    "X=dc[:]\n",
    "del X['tripduration']\n",
    "x_train, x_test, y_train, y_test = train_test_split(X, y, test_size=0.4, random_state=1)\n",
    "dc = x_train"
   ]
  },
  {
   "cell_type": "code",
   "execution_count": null,
   "id": "5f44131f-f5d3-43c6-b772-3fd26c82e40d",
   "metadata": {},
   "outputs": [],
   "source": [
    "dstart = dc.drop(columns=['Unnamed: 0', 'stoptime', 'starttime',\n",
    "       'start_station_id', 'end_station_id','bikeid', 'end_station_latitude', 'end_station_longitude', 'usertype', 'birth_year', 'gender'])\n",
    "dend = dc.drop(columns=['Unnamed: 0', 'stoptime', 'starttime',\n",
    "       'start_station_id', 'end_station_id','bikeid', 'start_station_latitude', 'start_station_longitude', 'usertype', 'birth_year', 'gender'])"
   ]
  },
  {
   "cell_type": "code",
   "execution_count": null,
   "id": "a9e36fbb-d463-4104-8a1c-31398c522c5f",
   "metadata": {},
   "outputs": [],
   "source": [
    "dks = dstart.copy()\n",
    "dke = dend.copy()"
   ]
  },
  {
   "cell_type": "markdown",
   "id": "7b61944f",
   "metadata": {},
   "source": [
    "## Geographical Clustering"
   ]
  },
  {
   "cell_type": "markdown",
   "id": "71d15866",
   "metadata": {},
   "source": [
    "For the exploratory part we'll do geographical clustering on the dataset to see where in the city the demand for bicycles is highest, which is useful for the operator for placing bicycles in high demand spots. The demand is firstly visualized using heatmaps that show the demand. This can be used to compare the clustering and see how well they fit. \n",
    "For this part the data is split into a training set and test set, because both Kmeans and HDBSCAN can be used to predicting on new data, though it is not usually necessary.\n"
   ]
  },
  {
   "cell_type": "code",
   "execution_count": null,
   "id": "ffeba778-46db-4c36-b892-4b54452b0b24",
   "metadata": {},
   "outputs": [],
   "source": [
    "dstart['start_station_latitude'] = dstart['start_station_latitude'].astype(float)\n",
    "dstart['start_station_longitude'] = dstart['start_station_longitude'].astype(float)\n",
    "dend['end_station_latitude'] = dend['end_station_latitude'].astype(float)\n",
    "dend['end_station_longitude'] = dend['end_station_longitude'].astype(float)"
   ]
  },
  {
   "cell_type": "code",
   "execution_count": null,
   "id": "77604682",
   "metadata": {},
   "outputs": [],
   "source": [
    "heat_data_start = [[row['start_station_latitude'],row['start_station_longitude']] for index, row in dstart.iterrows()]\n",
    "heat_data_end = [[row['end_station_latitude'],row['end_station_longitude']] for index, row in dend.iterrows()]"
   ]
  },
  {
   "cell_type": "code",
   "execution_count": null,
   "id": "8be11101",
   "metadata": {},
   "outputs": [],
   "source": [
    "map_NewYorkStart = folium.Map([40.767, -73.994], zoom_start = 10)\n",
    "map_NewYorkEnd = folium.Map([40.767, -73.994], zoom_start = 10)"
   ]
  },
  {
   "cell_type": "code",
   "execution_count": null,
   "id": "395cba18",
   "metadata": {},
   "outputs": [],
   "source": [
    "HeatMap(heat_data_start).add_to(map_NewYorkStart)\n",
    "map_NewYorkStart"
   ]
  },
  {
   "cell_type": "code",
   "execution_count": null,
   "id": "7ab1d7db",
   "metadata": {},
   "outputs": [],
   "source": [
    "HeatMap(heat_data_end).add_to(map_NewYorkEnd)\n",
    "map_NewYorkEnd"
   ]
  },
  {
   "cell_type": "markdown",
   "id": "4a9e0064-3a1b-44ff-b021-97dcfd23334f",
   "metadata": {},
   "source": [
    "From the heatmaps it is clear that the demand for bicycles is the highest around central station. Another interesting observation is the amount of bicycles being left in Jersey City and the areas around is very high compared to trips starting in that area."
   ]
  },
  {
   "cell_type": "markdown",
   "id": "d18395b8",
   "metadata": {},
   "source": [
    "For the clustering we run K-means clustering for both the start stations and end stations, using 4 clusters which has been decided through testing. The clusters split the data into clusters of similar demand, so the amount of clusters to pick depends on how many different groups of station demand we want."
   ]
  },
  {
   "cell_type": "code",
   "execution_count": null,
   "id": "e9bf5ea6-1460-4cd0-91de-4d1f5314951c",
   "metadata": {},
   "outputs": [],
   "source": [
    "dks = dks.groupby(['start_station_latitude', 'start_station_longitude']).size().reset_index(name=\"Count\")\n",
    "dke = dke.groupby(['end_station_latitude', 'end_station_longitude']).size().reset_index(name=\"Count\")"
   ]
  },
  {
   "cell_type": "code",
   "execution_count": null,
   "id": "09cf165c",
   "metadata": {},
   "outputs": [],
   "source": [
    "K=4\n",
    "k=KMeans(K)\n",
    "plt.scatter(dks['start_station_latitude'], dks['start_station_longitude'], c = k.fit_predict(dks), s=10, cmap='viridis')\n",
    "plt.xlim([40.6, 40.9])\n",
    "plt.ylim([-74.06, -73.8])"
   ]
  },
  {
   "cell_type": "code",
   "execution_count": null,
   "id": "c757b66a",
   "metadata": {},
   "outputs": [],
   "source": [
    "plt.scatter(dke['end_station_latitude'], dke['end_station_longitude'], c = k.fit_predict(dke), s=10, cmap='viridis')\n",
    "plt.xlim([40.6, 40.9])\n",
    "plt.ylim([-74.06, -73.8])"
   ]
  },
  {
   "cell_type": "markdown",
   "id": "70204762-8463-4157-a9f2-7fa649776c5b",
   "metadata": {},
   "source": [
    "From the graphs we see that kMeans clustering is efficient. When comparing to the heatmaps, they show somewhat the same demand, and that the 4 clusters is a good choice for this case. The problem with this is it doesn't work well on outliers, which we see in the plot where the x-axis and y-axis is not limited (see appendix)."
   ]
  },
  {
   "cell_type": "markdown",
   "id": "15b84390",
   "metadata": {},
   "source": [
    "Density based clustering is better for working with outliers. It is run on both start stations and end stations (see appendix). From the density based clustering it is clear that it's very good clustering, but is very inefficient for running large data sets."
   ]
  },
  {
   "cell_type": "markdown",
   "id": "3537022e",
   "metadata": {},
   "source": [
    "Hierarchical density-based clustering is run (see appendix). It makes quite a lot of clusters, but they are hard to distinguish between. From the analysis we see there are very few outliers, making it very good for clustering geographical points. The HDBSCAN is also more precise in deciding how many clusters, compared to Kmeans, where we pick for ourselves. "
   ]
  },
  {
   "cell_type": "markdown",
   "id": "4044e4e4",
   "metadata": {},
   "source": [
    "In conclusion HDBSCAN or KMeans are the best for clustering in this dataset. KMeans runs best on large data, but HDBSCAN is better at handling outliers, which is very important for further analysis of the data. Kmeans works well for giving an overview of the data, while HDBSCAN is more precise."
   ]
  },
  {
   "cell_type": "markdown",
   "id": "0a1d5841-4ed6-4566-a657-65158d9acfb7",
   "metadata": {},
   "source": [
    "## Literature"
   ]
  },
  {
   "cell_type": "markdown",
   "id": "82ccb24a-c7d0-4a6b-853d-c90ec9df03bd",
   "metadata": {},
   "source": [
    "Knee method for finding epsilon in DBSCAN: https://towardsdatascience.com/k-means-vs-dbscan-clustering-49f8e627de27"
   ]
  },
  {
   "cell_type": "markdown",
   "id": "80b7ff1a-3dbb-471e-857a-6314d0616c74",
   "metadata": {},
   "source": [
    "Plotting clusters for HDBSCAN: https://hdbscan.readthedocs.io/en/latest/advanced_hdbscan.html"
   ]
  },
  {
   "cell_type": "markdown",
   "id": "73a0d40a-4745-48fd-9f2d-ec8141480554",
   "metadata": {},
   "source": [
    "Estimating outliers in HDBSCAN: https://towardsdatascience.com/geographic-clustering-with-hdbscan-ef8cb0ed6051"
   ]
  },
  {
   "cell_type": "markdown",
   "id": "069e2fc7",
   "metadata": {},
   "source": [
    "# Appendix"
   ]
  },
  {
   "cell_type": "markdown",
   "id": "40fd4ece-6b4c-49b4-b15f-420aabb7ca24",
   "metadata": {},
   "source": [
    "## Kmeans without limiting axis"
   ]
  },
  {
   "cell_type": "code",
   "execution_count": null,
   "id": "0946743b-5cd4-484a-954c-cc8ed83d8ef5",
   "metadata": {},
   "outputs": [],
   "source": [
    "plt.scatter(dks['start_station_latitude'], dks['start_station_longitude'], c = k.fit_predict(dks), s=10, cmap='viridis')\n",
    "plt.scatter(k.cluster_centers_[:,0], k.cluster_centers_[:,1], c='black', s=100, alpha=1);"
   ]
  },
  {
   "cell_type": "code",
   "execution_count": null,
   "id": "b5ecea0f-7221-4093-856d-bf9959886f9e",
   "metadata": {},
   "outputs": [],
   "source": [
    "plt.scatter(dke['end_station_latitude'], dke['end_station_longitude'], c = k.fit_predict(dke), s=10, cmap='viridis')\n",
    "plt.scatter(k.cluster_centers_[:,0], k.cluster_centers_[:,1], c='black', s=100, alpha=1);"
   ]
  },
  {
   "cell_type": "markdown",
   "id": "f4c5c371-419e-4916-ab0c-585dc1c5dcbb",
   "metadata": {},
   "source": [
    "## DBSCAN"
   ]
  },
  {
   "cell_type": "code",
   "execution_count": 3,
   "id": "86bebea8-b337-4b4a-8dc3-a286b1240276",
   "metadata": {},
   "outputs": [],
   "source": [
    "dx = pd.read_csv(\"Trips_2018.csv\")[:500000]"
   ]
  },
  {
   "cell_type": "code",
   "execution_count": 4,
   "id": "e7616eba-03fb-4da3-a518-35ee2618dd08",
   "metadata": {},
   "outputs": [],
   "source": [
    "dds= dx.drop(columns=['Unnamed: 0', 'stoptime', 'starttime',\n",
    "       'start_station_id', 'end_station_id','bikeid', 'end_station_latitude', 'end_station_longitude', 'usertype', 'birth_year', 'gender'])\n",
    "dde = dx.drop(columns=['Unnamed: 0', 'stoptime', 'starttime',\n",
    "       'start_station_id', 'end_station_id','bikeid', 'start_station_latitude', 'start_station_longitude', 'usertype', 'birth_year', 'gender'])"
   ]
  },
  {
   "cell_type": "code",
   "execution_count": 5,
   "id": "deefddb1-b273-4102-93d3-0043bd27c7ba",
   "metadata": {},
   "outputs": [],
   "source": [
    "xs=dds[['start_station_longitude', 'start_station_latitude']]\n",
    "xe=dde[['end_station_longitude', 'end_station_latitude']]"
   ]
  },
  {
   "cell_type": "markdown",
   "id": "aa6e4963-a971-4e98-8df7-a8bdbf3d9d28",
   "metadata": {},
   "source": [
    "Starting with making DBSCAN for the start stations"
   ]
  },
  {
   "cell_type": "markdown",
   "id": "4811e4ac-3b2d-43e9-a8e8-dbb50113684b",
   "metadata": {},
   "source": [
    "Firstly an epsilon value is decided by finding the optimal curvature using the knee method, see literature list. "
   ]
  },
  {
   "cell_type": "code",
   "execution_count": 6,
   "id": "684536be",
   "metadata": {},
   "outputs": [
    {
     "name": "stdout",
     "output_type": "stream",
     "text": [
      "[0.         0.         0.         ... 0.         0.         0.00252174]\n"
     ]
    },
    {
     "data": {
      "text/plain": [
       "<function matplotlib.pyplot.show(close=None, block=None)>"
      ]
     },
     "execution_count": 6,
     "metadata": {},
     "output_type": "execute_result"
    },
    {
     "data": {
      "image/png": "[encoded data removed]",
      "text/plain": [
       "<Figure size 432x288 with 1 Axes>"
      ]
     },
     "metadata": {
      "needs_background": "light"
     },
     "output_type": "display_data"
    }
   ],
   "source": [
    "#Deciding epsilon for dbscan\n",
    "\n",
    "from sklearn.neighbors import NearestNeighbors\n",
    "\n",
    "nearest_neighbors = NearestNeighbors(n_neighbors = 5)\n",
    "\n",
    "nearest_neighbors.fit(xs)\n",
    "distances, indices = nearest_neighbors.kneighbors(xs)\n",
    "distances = np.sort(distances, axis=0)[:,1]\n",
    "\n",
    "print(distances)\n",
    "\n",
    "plt.plot(distances)\n",
    "plt.show"
   ]
  },
  {
   "cell_type": "markdown",
   "id": "a353ba8a-467a-4e11-a8e8-0a6fe8539bc7",
   "metadata": {},
   "source": [
    "The epsilon value is estimated to 0.00252174"
   ]
  },
  {
   "cell_type": "code",
   "execution_count": null,
   "id": "49d1b4ee",
   "metadata": {},
   "outputs": [],
   "source": [
    "dbs = DBSCAN(min_samples=2000, eps=0.00252174)\n",
    "dbs.fit(xs)"
   ]
  },
  {
   "cell_type": "code",
   "execution_count": null,
   "id": "a47c923c",
   "metadata": {},
   "outputs": [],
   "source": [
    "num_colors=len(set(dbs.labels_))-1\n",
    "colors=list(mcolors.CSS4_COLORS.keys())\n",
    "cluster_colors=random.choices(colors, k=num_colors)\n",
    "x_=[]\n",
    "y_=[]\n",
    "c_=[]\n",
    "for label, xs, y  in zip(dbs.labels_, dds['start_station_longitude'], dds['start_station_latitude']):\n",
    "    if label==-1:\n",
    "        continue\n",
    "    x_.append(xs)\n",
    "    y_.append(y)\n",
    "    c_.append(cluster_colors[label])\n",
    "plt.figure(figsize=(18, 12))\n",
    "plt.scatter(x_,y_,s=50,c=c_)"
   ]
  },
  {
   "cell_type": "markdown",
   "id": "60f62808-801b-496a-9a6b-aaa45610f8da",
   "metadata": {},
   "source": [
    "Doing the exact same for the end stations:"
   ]
  },
  {
   "cell_type": "code",
   "execution_count": null,
   "id": "3dabd49b-9477-46d5-9e40-10bddd86bd25",
   "metadata": {},
   "outputs": [],
   "source": [
    "nearest_neighbors.fit(xe)\n",
    "distances, indices = nearest_neighbors.kneighbors(xe)\n",
    "distances = np.sort(distances, axis=0)[:,1]\n",
    "\n",
    "print(distances)\n",
    "\n",
    "plt.plot(distances)\n",
    "plt.show"
   ]
  },
  {
   "cell_type": "code",
   "execution_count": null,
   "id": "7473e03c-9b4b-4e95-9646-5d8410dd68ff",
   "metadata": {},
   "outputs": [],
   "source": [
    "dbe = DBSCAN(min_samples=2000, eps=0.00304238)\n",
    "dbe.fit(xe)"
   ]
  },
  {
   "cell_type": "code",
   "execution_count": null,
   "id": "62e1eb84-acf0-4643-b00b-bbc123b8e4a2",
   "metadata": {},
   "outputs": [],
   "source": [
    "x_=[]\n",
    "y_=[]\n",
    "c_=[]\n",
    "for label, xe, y  in zip(dbe.labels_, dde['end_station_longitude'], dde['end_station_latitude']):\n",
    "    if label==-1:\n",
    "        continue\n",
    "    x_.append(xe)\n",
    "    y_.append(y)\n",
    "    c_.append(cluster_colors[label])\n",
    "plt.figure(figsize=(18, 12))\n",
    "plt.scatter(x_,y_,s=50,c=c_)\n",
    "\n"
   ]
  },
  {
   "cell_type": "markdown",
   "id": "3f92df37-2ea0-41bf-9e95-16d14364acee",
   "metadata": {},
   "source": [
    "## HDBSCAN"
   ]
  },
  {
   "cell_type": "code",
   "execution_count": null,
   "id": "90a42c15-c38f-4828-8fd4-581e30ce23aa",
   "metadata": {},
   "outputs": [],
   "source": [
    "dh = dx.drop(columns=['Unnamed: 0', 'stoptime', 'starttime', 'start_station_id', 'end_station_id','bikeid', 'usertype', 'birth_year', 'gender'])"
   ]
  },
  {
   "cell_type": "markdown",
   "id": "bc9bc13d-7f80-488a-b992-0e4e10081671",
   "metadata": {},
   "source": [
    "First we'll stack the data into one array, and run hdbscan on it and also converting from  degrees to meters\n"
   ]
  },
  {
   "cell_type": "code",
   "execution_count": null,
   "id": "ae7d8e13-3548-45f3-a964-49454fc0ad15",
   "metadata": {},
   "outputs": [],
   "source": [
    "startstat = dh[['start_station_longitude', 'start_station_latitude']].to_numpy()\n",
    "endstat = dh[['end_station_longitude', 'end_station_latitude']].to_numpy()\n",
    "\n",
    "stat = np.vstack((startstat, endstat))"
   ]
  },
  {
   "cell_type": "code",
   "execution_count": null,
   "id": "63b7316b-31b9-467d-94e7-b04732be77c1",
   "metadata": {},
   "outputs": [],
   "source": [
    "def fit_utm_cluster(locations, min_cluster_size=20, min_samples=20):\n",
    "    xyzz = [utm.from_latlon(ll[0], ll[1]) for ll in locations]\n",
    "    pts = [[p[0], p[1]] for p in xyzz]\n",
    "\n",
    "    cluster = hdbscan.HDBSCAN(min_cluster_size=min_cluster_size, \n",
    "                                min_samples=min_samples,\n",
    "                                metric='euclidean')\n",
    "    cluster.fit(pts)\n",
    "    return cluster"
   ]
  },
  {
   "cell_type": "code",
   "execution_count": null,
   "id": "6aa96d9e-c0ec-4ead-946b-ef882fe5f13d",
   "metadata": {},
   "outputs": [],
   "source": [
    "cluster = fit_utm_cluster(stat)"
   ]
  },
  {
   "cell_type": "code",
   "execution_count": null,
   "id": "8a002e70-316e-420b-b773-1862b354a0e4",
   "metadata": {},
   "outputs": [],
   "source": [
    "# see literature list for code reference\n",
    "color_palette = sns.color_palette('flare')\n",
    "cluster_colors = [color_palette[x % 6] if x >= 0\n",
    "                  else (0.5, 0.5, 0.5)\n",
    "                  for x in cluster.labels_]\n",
    "cluster_member_colors = [sns.desaturate(x, p) for x, p in\n",
    "                         zip(cluster_colors, cluster.probabilities_)]\n",
    "plt.scatter(*stat.T, s=50, linewidth=0, c=cluster_member_colors, alpha=0.25)"
   ]
  },
  {
   "cell_type": "markdown",
   "id": "d130f797-6681-4a68-8071-3388da81aeba",
   "metadata": {},
   "source": [
    "now we check how many of the cluster data points are outliers, to see if they have significant effect, see literature list for code reference"
   ]
  },
  {
   "cell_type": "code",
   "execution_count": null,
   "id": "45075d44-0e30-4337-8ffb-40cb4bd216f3",
   "metadata": {},
   "outputs": [],
   "source": [
    "plt.hist(cluster.outlier_scores_, bins=50)"
   ]
  },
  {
   "cell_type": "markdown",
   "id": "13adea0d-8385-4b1b-bfad-3d56072b8a2e",
   "metadata": {},
   "source": [
    "from figure it is estimated that it is below 0.01%"
   ]
  },
  {
   "cell_type": "code",
   "execution_count": null,
   "id": "bb036e6c-8d32-4fa3-b1f3-37b64ff1d5a4",
   "metadata": {},
   "outputs": [],
   "source": [
    "scores = cluster.outlier_scores_\n",
    "print(\"Below 0.01 you can find {:.2f}% of the cluster points.\".format(100.0 * scores[scores < 0.01].shape[0] / scores.shape[0]))"
   ]
  },
  {
   "cell_type": "code",
   "execution_count": null,
   "id": "2ce3490b-6db2-4db1-af53-253e864df54e",
   "metadata": {},
   "outputs": [],
   "source": [
    "plt.rcParams['figure.figsize'] = [8, 8]\n",
    "score_shape = [scores[scores < x].shape[0] / scores.shape[0] for x in np.arange(0.0, 0.1, 0.01)]\n",
    "plt.plot(np.arange(0.0, 0.1, 0.01), score_shape)\n",
    "plt.xlabel(\"Outlier Score\")\n",
    "plt.ylabel(\"Point Proportion\")\n",
    "plt.title(\"Outlier Score Cumulative Distribution\")\n",
    "plt.grid(True)"
   ]
  },
  {
   "cell_type": "code",
   "execution_count": null,
   "id": "93a4f928-f329-4065-9239-0faf482dc26a",
   "metadata": {},
   "outputs": [],
   "source": [
    "scores = cluster.outlier_scores_\n",
    "scores[scores < 0.01].shape[0] / scores.shape[0]"
   ]
  },
  {
   "cell_type": "markdown",
   "id": "b12eb09d-10db-44a6-bef1-b285b476d630",
   "metadata": {},
   "source": [
    "from analysis we see that there are not many outliers"
   ]
  }
 ],
 "metadata": {
  "kernelspec": {
   "display_name": "Python 3",
   "language": "python",
   "name": "python3"
  },
  "language_info": {
   "codemirror_mode": {
    "name": "ipython",
    "version": 3
   },
   "file_extension": ".py",
   "mimetype": "text/x-python",
   "name": "python",
   "nbconvert_exporter": "python",
   "pygments_lexer": "ipython3",
   "version": "3.8.8"
  }
 },
 "nbformat": 4,
 "nbformat_minor": 5
}
